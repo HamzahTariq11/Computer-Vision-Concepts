{
  "cells": [
    {
      "cell_type": "markdown",
      "metadata": {
        "id": "NQelKBvqoyhB"
      },
      "source": []
    },
    {
      "cell_type": "code",
      "execution_count": 2,
      "metadata": {
        "id": "ftO0UdEQjosZ"
      },
      "outputs": [],
      "source": [
        "import tensorflow as tf\n",
        "from tensorflow.keras import layers, models\n",
        "from tensorflow.keras.applications import ResNet50\n",
        "from tensorflow.keras.preprocessing.image import ImageDataGenerator\n",
        "import zipfile\n",
        "import numpy as np\n",
        "import matplotlib.pyplot as plt\n",
        "from tensorflow.keras.preprocessing import image"
      ]
    },
    {
      "cell_type": "code",
      "execution_count": 5,
      "metadata": {
        "id": "r__ht6Y8m5PU"
      },
      "outputs": [],
      "source": [
        "zip_file_path = '/content/archive.zip'\n",
        "\n",
        "extracted_folder_path = '/content/dataset'\n",
        "\n",
        "with zipfile.ZipFile(zip_file_path, 'r') as zip_ref:\n",
        "    zip_ref.extractall(extracted_folder_path)"
      ]
    },
    {
      "cell_type": "code",
      "execution_count": 7,
      "metadata": {
        "colab": {
          "base_uri": "https://localhost:8080/"
        },
        "id": "OyTOE5FgmXFG",
        "outputId": "3e388969-e722-4e79-f147-bee940ff8d80"
      },
      "outputs": [
        {
          "name": "stdout",
          "output_type": "stream",
          "text": [
            "Found 28709 images belonging to 7 classes.\n",
            "Found 7178 images belonging to 7 classes.\n"
          ]
        }
      ],
      "source": [
        "img_height, img_width = 224, 224\n",
        "num_classes = 7\n",
        "batch_size = 32\n",
        "\n",
        "train_data_dir = '/content/dataset/train'\n",
        "test_data_dir = '/content/dataset/test'\n",
        "\n",
        "train_datagen = ImageDataGenerator(\n",
        "    rescale=1./255,\n",
        "    shear_range=0.2,\n",
        "    zoom_range=0.2,\n",
        "    horizontal_flip=True\n",
        ")\n",
        "\n",
        "test_datagen = ImageDataGenerator(rescale=1./255)\n",
        "\n",
        "train_generator = train_datagen.flow_from_directory(\n",
        "    train_data_dir,\n",
        "    target_size=(img_height, img_width),\n",
        "    batch_size=batch_size,\n",
        "    class_mode='categorical'\n",
        ")\n",
        "\n",
        "test_generator = test_datagen.flow_from_directory(\n",
        "    test_data_dir,\n",
        "    target_size=(img_height, img_width),\n",
        "    batch_size=batch_size,\n",
        "    class_mode='categorical'\n",
        ")"
      ]
    },
    {
      "cell_type": "code",
      "execution_count": 8,
      "metadata": {
        "colab": {
          "base_uri": "https://localhost:8080/"
        },
        "id": "20IhRdUFmeWl",
        "outputId": "3a6dd1cb-a62e-4f6c-d9fb-9ae1a2e08e1a"
      },
      "outputs": [
        {
          "name": "stdout",
          "output_type": "stream",
          "text": [
            "Downloading data from https://storage.googleapis.com/tensorflow/keras-applications/resnet/resnet50_weights_tf_dim_ordering_tf_kernels_notop.h5\n",
            "94765736/94765736 [==============================] - 0s 0us/step\n"
          ]
        }
      ],
      "source": [
        "base_model = ResNet50(weights='imagenet', include_top=False, input_shape=(img_height, img_width, 3))\n",
        "\n",
        "for layer in base_model.layers:\n",
        "    layer.trainable = False"
      ]
    },
    {
      "cell_type": "code",
      "execution_count": 9,
      "metadata": {
        "id": "-wQMtCmEoc6s"
      },
      "outputs": [],
      "source": [
        "model = models.Sequential()\n",
        "model.add(base_model)\n",
        "model.add(layers.GlobalAveragePooling2D())\n",
        "model.add(layers.Dense(7, activation='relu'))\n",
        "model.add(layers.Dropout(0.5))\n",
        "model.add(layers.Dense(num_classes, activation='softmax'))"
      ]
    },
    {
      "cell_type": "code",
      "execution_count": 10,
      "metadata": {
        "id": "Vbv81AR_ogkz"
      },
      "outputs": [],
      "source": [
        "model.compile(optimizer='adam', loss='categorical_crossentropy', metrics=['accuracy'])"
      ]
    },
    {
      "cell_type": "code",
      "execution_count": 12,
      "metadata": {
        "colab": {
          "base_uri": "https://localhost:8080/"
        },
        "id": "uGFu5ff_oiUD",
        "outputId": "c3dceb48-665e-4729-f88d-cfe11ec12a98"
      },
      "outputs": [
        {
          "name": "stdout",
          "output_type": "stream",
          "text": [
            "Epoch 1/3\n",
            "898/898 [==============================] - 409s 456ms/step - loss: 1.8444 - accuracy: 0.2433 - val_loss: 1.8135 - val_accuracy: 0.2471\n",
            "Epoch 2/3\n",
            "898/898 [==============================] - 405s 451ms/step - loss: 1.8225 - accuracy: 0.2513 - val_loss: 1.8165 - val_accuracy: 0.2471\n",
            "Epoch 3/3\n",
            "898/898 [==============================] - 407s 453ms/step - loss: 1.8138 - accuracy: 0.2513 - val_loss: 1.8106 - val_accuracy: 0.2471\n"
          ]
        }
      ],
      "source": [
        "\n",
        "with tf.device('/device:GPU:0'):\n",
        "  epochs = 3\n",
        "  history = model.fit(train_generator, epochs=epochs, validation_data=test_generator)"
      ]
    },
    {
      "cell_type": "code",
      "execution_count": 19,
      "metadata": {
        "colab": {
          "base_uri": "https://localhost:8080/",
          "height": 458
        },
        "id": "JYIlSBOcEqMZ",
        "outputId": "2fd821de-0ba8-4798-a270-f310ba82efa9"
      },
      "outputs": [
        {
          "name": "stdout",
          "output_type": "stream",
          "text": [
            "1/1 [==============================] - 0s 24ms/step\n",
            "True Label: happy\n",
            "Predicted Label: happy\n"
          ]
        },
        {
          "data": {
            "image/png": "[encoded data removed]",
            "text/plain": [
              "<Figure size 640x480 with 1 Axes>"
            ]
          },
          "metadata": {},
          "output_type": "display_data"
        }
      ],
      "source": [
        "def predict_and_display(model, test_generator, index):\n",
        "\n",
        "    img_path = test_generator.filepaths[index]\n",
        "    img = image.load_img(img_path, target_size=(img_height, img_width))\n",
        "    img_array = image.img_to_array(img)\n",
        "    img_array = np.expand_dims(img_array, axis=0)\n",
        "    img_array /= 255.0\n",
        "\n",
        "    predictions = model.predict(img_array)\n",
        "\n",
        "    predicted_label = np.argmax(predictions)\n",
        "    true_label = test_generator.classes[index]\n",
        "\n",
        "    predicted_class_name = list(test_generator.class_indices.keys())[predicted_label]\n",
        "    true_class_name = list(test_generator.class_indices.keys())[true_label]\n",
        "\n",
        "    plt.imshow(img)\n",
        "    plt.axis('off')\n",
        "\n",
        "    print(\"True Label:\", true_class_name)\n",
        "    print(\"Predicted Label:\", predicted_class_name)\n",
        "\n",
        "    plt.show()\n",
        "\n",
        "index_to_predict = 3500\n",
        "\n",
        "predict_and_display(model, test_generator, index_to_predict)"
      ]
    },
    {
      "cell_type": "code",
      "execution_count": null,
      "metadata": {
        "id": "he2e0hfHEs48"
      },
      "outputs": [],
      "source": []
    }
  ],
  "metadata": {
    "accelerator": "GPU",
    "colab": {
      "provenance": []
    },
    "kernelspec": {
      "display_name": "Python 3",
      "name": "python3"
    },
    "language_info": {
      "name": "python"
    }
  },
  "nbformat": 4,
  "nbformat_minor": 0
}
